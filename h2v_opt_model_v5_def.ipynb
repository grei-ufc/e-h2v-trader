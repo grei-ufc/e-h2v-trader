{
 "cells": [
  {
   "cell_type": "code",
   "execution_count": null,
   "metadata": {},
   "outputs": [
    {
     "ename": "AttributeError",
     "evalue": "`np.float_` was removed in the NumPy 2.0 release. Use `np.float64` instead.",
     "output_type": "error",
     "traceback": [
      "\u001b[0;31m---------------------------------------------------------------------------\u001b[0m",
      "\u001b[0;31mAttributeError\u001b[0m                            Traceback (most recent call last)",
      "Cell \u001b[0;32mIn[1], line 5\u001b[0m\n\u001b[1;32m      3\u001b[0m \u001b[38;5;28;01mimport\u001b[39;00m\u001b[38;5;250m \u001b[39m\u001b[38;5;21;01mpandas\u001b[39;00m\u001b[38;5;250m \u001b[39m\u001b[38;5;28;01mas\u001b[39;00m\u001b[38;5;250m \u001b[39m\u001b[38;5;21;01mpd\u001b[39;00m\n\u001b[1;32m      4\u001b[0m \u001b[38;5;28;01mimport\u001b[39;00m\u001b[38;5;250m \u001b[39m\u001b[38;5;21;01mseaborn\u001b[39;00m\u001b[38;5;250m \u001b[39m\u001b[38;5;28;01mas\u001b[39;00m\u001b[38;5;250m \u001b[39m\u001b[38;5;21;01msns\u001b[39;00m\n\u001b[0;32m----> 5\u001b[0m \u001b[38;5;28;01mimport\u001b[39;00m\u001b[38;5;250m \u001b[39m\u001b[38;5;21;01mpyomo\u001b[39;00m\u001b[38;5;21;01m.\u001b[39;00m\u001b[38;5;21;01menviron\u001b[39;00m\u001b[38;5;250m \u001b[39m\u001b[38;5;28;01mas\u001b[39;00m\u001b[38;5;250m \u001b[39m\u001b[38;5;21;01mpyo\u001b[39;00m\n\u001b[1;32m      6\u001b[0m \u001b[38;5;28;01mimport\u001b[39;00m\u001b[38;5;250m \u001b[39m\u001b[38;5;21;01mmatplotlib\u001b[39;00m\u001b[38;5;21;01m.\u001b[39;00m\u001b[38;5;21;01mdates\u001b[39;00m\u001b[38;5;250m \u001b[39m\u001b[38;5;28;01mas\u001b[39;00m\u001b[38;5;250m \u001b[39m\u001b[38;5;21;01mmdates\u001b[39;00m\n\u001b[1;32m      7\u001b[0m \u001b[38;5;28;01mfrom\u001b[39;00m\u001b[38;5;250m \u001b[39m\u001b[38;5;21;01mload_data_PLD\u001b[39;00m\u001b[38;5;250m \u001b[39m\u001b[38;5;28;01mimport\u001b[39;00m get_load_data, get_gen_data, get_spot_prices_data\n",
      "File \u001b[0;32m~/anaconda3/envs/h2v-trader/lib/python3.10/site-packages/pyomo/environ/__init__.py:84\u001b[0m\n\u001b[1;32m     80\u001b[0m         pkg \u001b[38;5;241m=\u001b[39m _sys\u001b[38;5;241m.\u001b[39mmodules[pname]\n\u001b[1;32m     81\u001b[0m         pkg\u001b[38;5;241m.\u001b[39mload()\n\u001b[0;32m---> 84\u001b[0m \u001b[43m_import_packages\u001b[49m\u001b[43m(\u001b[49m\u001b[43m)\u001b[49m\n\u001b[1;32m     86\u001b[0m \u001b[38;5;66;03m#\u001b[39;00m\n\u001b[1;32m     87\u001b[0m \u001b[38;5;66;03m# Expose the symbols from pyomo.core\u001b[39;00m\n\u001b[1;32m     88\u001b[0m \u001b[38;5;66;03m#\u001b[39;00m\n\u001b[1;32m     89\u001b[0m \u001b[38;5;28;01mfrom\u001b[39;00m\u001b[38;5;250m \u001b[39m\u001b[38;5;21;01mpyomo\u001b[39;00m\u001b[38;5;21;01m.\u001b[39;00m\u001b[38;5;21;01mdataportal\u001b[39;00m\u001b[38;5;250m \u001b[39m\u001b[38;5;28;01mimport\u001b[39;00m DataPortal\n",
      "File \u001b[0;32m~/anaconda3/envs/h2v-trader/lib/python3.10/site-packages/pyomo/environ/__init__.py:64\u001b[0m, in \u001b[0;36m_import_packages\u001b[0;34m()\u001b[0m\n\u001b[1;32m     62\u001b[0m pname \u001b[38;5;241m=\u001b[39m _package \u001b[38;5;241m+\u001b[39m \u001b[38;5;124m'\u001b[39m\u001b[38;5;124m.plugins\u001b[39m\u001b[38;5;124m'\u001b[39m\n\u001b[1;32m     63\u001b[0m \u001b[38;5;28;01mtry\u001b[39;00m:\n\u001b[0;32m---> 64\u001b[0m     \u001b[43m_do_import\u001b[49m\u001b[43m(\u001b[49m\u001b[43mpname\u001b[49m\u001b[43m)\u001b[49m\n\u001b[1;32m     65\u001b[0m \u001b[38;5;28;01mexcept\u001b[39;00m \u001b[38;5;167;01mImportError\u001b[39;00m:\n\u001b[1;32m     66\u001b[0m     exctype, err, tb \u001b[38;5;241m=\u001b[39m _sys\u001b[38;5;241m.\u001b[39mexc_info()  \u001b[38;5;66;03m# BUG?\u001b[39;00m\n",
      "File \u001b[0;32m~/anaconda3/envs/h2v-trader/lib/python3.10/site-packages/pyomo/environ/__init__.py:18\u001b[0m, in \u001b[0;36m_do_import\u001b[0;34m(pkg_name)\u001b[0m\n\u001b[1;32m     17\u001b[0m \u001b[38;5;28;01mdef\u001b[39;00m\u001b[38;5;250m \u001b[39m\u001b[38;5;21m_do_import\u001b[39m(pkg_name):\n\u001b[0;32m---> 18\u001b[0m     \u001b[43mimportlib\u001b[49m\u001b[38;5;241;43m.\u001b[39;49m\u001b[43mimport_module\u001b[49m\u001b[43m(\u001b[49m\u001b[43mpkg_name\u001b[49m\u001b[43m)\u001b[49m\n",
      "File \u001b[0;32m~/anaconda3/envs/h2v-trader/lib/python3.10/importlib/__init__.py:126\u001b[0m, in \u001b[0;36mimport_module\u001b[0;34m(name, package)\u001b[0m\n\u001b[1;32m    124\u001b[0m             \u001b[38;5;28;01mbreak\u001b[39;00m\n\u001b[1;32m    125\u001b[0m         level \u001b[38;5;241m+\u001b[39m\u001b[38;5;241m=\u001b[39m \u001b[38;5;241m1\u001b[39m\n\u001b[0;32m--> 126\u001b[0m \u001b[38;5;28;01mreturn\u001b[39;00m \u001b[43m_bootstrap\u001b[49m\u001b[38;5;241;43m.\u001b[39;49m\u001b[43m_gcd_import\u001b[49m\u001b[43m(\u001b[49m\u001b[43mname\u001b[49m\u001b[43m[\u001b[49m\u001b[43mlevel\u001b[49m\u001b[43m:\u001b[49m\u001b[43m]\u001b[49m\u001b[43m,\u001b[49m\u001b[43m \u001b[49m\u001b[43mpackage\u001b[49m\u001b[43m,\u001b[49m\u001b[43m \u001b[49m\u001b[43mlevel\u001b[49m\u001b[43m)\u001b[49m\n",
      "File \u001b[0;32m~/anaconda3/envs/h2v-trader/lib/python3.10/site-packages/pyomo/core/__init__.py:12\u001b[0m\n\u001b[1;32m      1\u001b[0m \u001b[38;5;66;03m#  ___________________________________________________________________________\u001b[39;00m\n\u001b[1;32m      2\u001b[0m \u001b[38;5;66;03m#\u001b[39;00m\n\u001b[1;32m      3\u001b[0m \u001b[38;5;66;03m#  Pyomo: Python Optimization Modeling Objects\u001b[39;00m\n\u001b[0;32m   (...)\u001b[0m\n\u001b[1;32m      9\u001b[0m \u001b[38;5;66;03m#  This software is distributed under the 3-clause BSD License.\u001b[39;00m\n\u001b[1;32m     10\u001b[0m \u001b[38;5;66;03m#  ___________________________________________________________________________\u001b[39;00m\n\u001b[0;32m---> 12\u001b[0m \u001b[38;5;28;01mfrom\u001b[39;00m\u001b[38;5;250m \u001b[39m\u001b[38;5;21;01mpyomo\u001b[39;00m\u001b[38;5;21;01m.\u001b[39;00m\u001b[38;5;21;01mcore\u001b[39;00m\u001b[38;5;21;01m.\u001b[39;00m\u001b[38;5;21;01mexpr\u001b[39;00m\u001b[38;5;21;01m.\u001b[39;00m\u001b[38;5;21;01mnumvalue\u001b[39;00m\u001b[38;5;250m \u001b[39m\u001b[38;5;28;01mimport\u001b[39;00m (\n\u001b[1;32m     13\u001b[0m     value,\n\u001b[1;32m     14\u001b[0m     is_constant,\n\u001b[1;32m     15\u001b[0m     is_fixed,\n\u001b[1;32m     16\u001b[0m     is_variable_type,\n\u001b[1;32m     17\u001b[0m     is_potentially_variable,\n\u001b[1;32m     18\u001b[0m     NumericValue,\n\u001b[1;32m     19\u001b[0m     ZeroConstant,\n\u001b[1;32m     20\u001b[0m     native_numeric_types,\n\u001b[1;32m     21\u001b[0m     native_types,\n\u001b[1;32m     22\u001b[0m     polynomial_degree,\n\u001b[1;32m     23\u001b[0m )\n\u001b[1;32m     25\u001b[0m \u001b[38;5;28;01mfrom\u001b[39;00m\u001b[38;5;250m \u001b[39m\u001b[38;5;21;01mpyomo\u001b[39;00m\u001b[38;5;21;01m.\u001b[39;00m\u001b[38;5;21;01mcore\u001b[39;00m\u001b[38;5;21;01m.\u001b[39;00m\u001b[38;5;21;01mexpr\u001b[39;00m\u001b[38;5;21;01m.\u001b[39;00m\u001b[38;5;21;01mboolean_value\u001b[39;00m\u001b[38;5;250m \u001b[39m\u001b[38;5;28;01mimport\u001b[39;00m BooleanValue\n\u001b[1;32m     27\u001b[0m \u001b[38;5;28;01mfrom\u001b[39;00m\u001b[38;5;250m \u001b[39m\u001b[38;5;21;01mpyomo\u001b[39;00m\u001b[38;5;21;01m.\u001b[39;00m\u001b[38;5;21;01mcore\u001b[39;00m\u001b[38;5;21;01m.\u001b[39;00m\u001b[38;5;21;01mexpr\u001b[39;00m\u001b[38;5;250m \u001b[39m\u001b[38;5;28;01mimport\u001b[39;00m (\n\u001b[1;32m     28\u001b[0m     linear_expression,\n\u001b[1;32m     29\u001b[0m     nonlinear_expression,\n\u001b[0;32m   (...)\u001b[0m\n\u001b[1;32m     39\u001b[0m     inequality,\n\u001b[1;32m     40\u001b[0m )\n",
      "File \u001b[0;32m~/anaconda3/envs/h2v-trader/lib/python3.10/site-packages/pyomo/core/expr/__init__.py:20\u001b[0m\n\u001b[1;32m      1\u001b[0m \u001b[38;5;66;03m#  ___________________________________________________________________________\u001b[39;00m\n\u001b[1;32m      2\u001b[0m \u001b[38;5;66;03m#\u001b[39;00m\n\u001b[1;32m      3\u001b[0m \u001b[38;5;66;03m#  Pyomo: Python Optimization Modeling Objects\u001b[39;00m\n\u001b[0;32m   (...)\u001b[0m\n\u001b[1;32m     17\u001b[0m \u001b[38;5;66;03m# symbols that are used by developers.\u001b[39;00m\n\u001b[1;32m     18\u001b[0m \u001b[38;5;66;03m#\u001b[39;00m\n\u001b[0;32m---> 20\u001b[0m \u001b[38;5;28;01mfrom\u001b[39;00m\u001b[38;5;250m \u001b[39m\u001b[38;5;21;01m.\u001b[39;00m\u001b[38;5;250m \u001b[39m\u001b[38;5;28;01mimport\u001b[39;00m (\n\u001b[1;32m     21\u001b[0m     numvalue,\n\u001b[1;32m     22\u001b[0m     visitor,\n\u001b[1;32m     23\u001b[0m     numeric_expr,\n\u001b[1;32m     24\u001b[0m     boolean_value,\n\u001b[1;32m     25\u001b[0m     logical_expr,\n\u001b[1;32m     26\u001b[0m     relational_expr,\n\u001b[1;32m     27\u001b[0m     current,\n\u001b[1;32m     28\u001b[0m )\n\u001b[1;32m     30\u001b[0m \u001b[38;5;66;03m# FIXME: remove circular dependencies between numvalue and numeric_expr\u001b[39;00m\n\u001b[1;32m     31\u001b[0m \u001b[38;5;66;03m#\u001b[39;00m\n\u001b[1;32m     32\u001b[0m \u001b[38;5;66;03m# We unfortunately have circular dependencies between the numvalue\u001b[39;00m\n\u001b[0;32m   (...)\u001b[0m\n\u001b[1;32m     35\u001b[0m \u001b[38;5;66;03m# numeric_expr module (the dispatchers and the expression node\u001b[39;00m\n\u001b[1;32m     36\u001b[0m \u001b[38;5;66;03m# definitions)\u001b[39;00m\n\u001b[1;32m     37\u001b[0m numvalue\u001b[38;5;241m.\u001b[39m_add_dispatcher \u001b[38;5;241m=\u001b[39m numeric_expr\u001b[38;5;241m.\u001b[39m_add_dispatcher\n",
      "File \u001b[0;32mpyomo/core/expr/numvalue.pyx:1066\u001b[0m, in \u001b[0;36minit pyomo.core.expr.numvalue\u001b[0;34m()\u001b[0m\n",
      "File \u001b[0;32m~/anaconda3/envs/h2v-trader/lib/python3.10/site-packages/pyomo/common/dependencies.py:240\u001b[0m, in \u001b[0;36mDeferredImportIndicator.__bool__\u001b[0;34m(self)\u001b[0m\n\u001b[1;32m    239\u001b[0m \u001b[38;5;28;01mdef\u001b[39;00m\u001b[38;5;250m \u001b[39m\u001b[38;5;21m__bool__\u001b[39m(\u001b[38;5;28mself\u001b[39m):\n\u001b[0;32m--> 240\u001b[0m     \u001b[38;5;28;43mself\u001b[39;49m\u001b[38;5;241;43m.\u001b[39;49m\u001b[43mresolve\u001b[49m\u001b[43m(\u001b[49m\u001b[43m)\u001b[49m\n\u001b[1;32m    241\u001b[0m     \u001b[38;5;28;01mreturn\u001b[39;00m \u001b[38;5;28mself\u001b[39m\u001b[38;5;241m.\u001b[39m_available\n",
      "File \u001b[0;32m~/anaconda3/envs/h2v-trader/lib/python3.10/site-packages/pyomo/common/dependencies.py:248\u001b[0m, in \u001b[0;36mDeferredImportIndicator.resolve\u001b[0;34m(self)\u001b[0m\n\u001b[1;32m    246\u001b[0m package \u001b[38;5;241m=\u001b[39m \u001b[38;5;28mself\u001b[39m\u001b[38;5;241m.\u001b[39m_original_globals\u001b[38;5;241m.\u001b[39mget(\u001b[38;5;124m'\u001b[39m\u001b[38;5;124m__name__\u001b[39m\u001b[38;5;124m'\u001b[39m, \u001b[38;5;124m'\u001b[39m\u001b[38;5;124m'\u001b[39m)\n\u001b[1;32m    247\u001b[0m \u001b[38;5;28;01mtry\u001b[39;00m:\n\u001b[0;32m--> 248\u001b[0m     \u001b[38;5;28mself\u001b[39m\u001b[38;5;241m.\u001b[39m_module, \u001b[38;5;28mself\u001b[39m\u001b[38;5;241m.\u001b[39m_available \u001b[38;5;241m=\u001b[39m \u001b[43m_perform_import\u001b[49m\u001b[43m(\u001b[49m\n\u001b[1;32m    249\u001b[0m \u001b[43m        \u001b[49m\u001b[43mname\u001b[49m\u001b[38;5;241;43m=\u001b[39;49m\u001b[38;5;28;43mself\u001b[39;49m\u001b[38;5;241;43m.\u001b[39;49m\u001b[43m_names\u001b[49m\u001b[43m[\u001b[49m\u001b[38;5;241;43m0\u001b[39;49m\u001b[43m]\u001b[49m\u001b[43m,\u001b[49m\n\u001b[1;32m    250\u001b[0m \u001b[43m        \u001b[49m\u001b[43merror_message\u001b[49m\u001b[38;5;241;43m=\u001b[39;49m\u001b[38;5;28;43mself\u001b[39;49m\u001b[38;5;241;43m.\u001b[39;49m\u001b[43m_error_message\u001b[49m\u001b[43m,\u001b[49m\n\u001b[1;32m    251\u001b[0m \u001b[43m        \u001b[49m\u001b[43mminimum_version\u001b[49m\u001b[38;5;241;43m=\u001b[39;49m\u001b[38;5;28;43mself\u001b[39;49m\u001b[38;5;241;43m.\u001b[39;49m\u001b[43m_minimum_version\u001b[49m\u001b[43m,\u001b[49m\n\u001b[1;32m    252\u001b[0m \u001b[43m        \u001b[49m\u001b[43mcallback\u001b[49m\u001b[38;5;241;43m=\u001b[39;49m\u001b[38;5;28;43mself\u001b[39;49m\u001b[38;5;241;43m.\u001b[39;49m\u001b[43m_callback\u001b[49m\u001b[43m,\u001b[49m\n\u001b[1;32m    253\u001b[0m \u001b[43m        \u001b[49m\u001b[43mimporter\u001b[49m\u001b[38;5;241;43m=\u001b[39;49m\u001b[38;5;28;43mself\u001b[39;49m\u001b[38;5;241;43m.\u001b[39;49m\u001b[43m_importer\u001b[49m\u001b[43m,\u001b[49m\n\u001b[1;32m    254\u001b[0m \u001b[43m        \u001b[49m\u001b[43mcatch_exceptions\u001b[49m\u001b[38;5;241;43m=\u001b[39;49m\u001b[38;5;28;43mself\u001b[39;49m\u001b[38;5;241;43m.\u001b[39;49m\u001b[43m_catch_exceptions\u001b[49m\u001b[43m,\u001b[49m\n\u001b[1;32m    255\u001b[0m \u001b[43m        \u001b[49m\u001b[43mpackage\u001b[49m\u001b[38;5;241;43m=\u001b[39;49m\u001b[43mpackage\u001b[49m\u001b[43m,\u001b[49m\n\u001b[1;32m    256\u001b[0m \u001b[43m    \u001b[49m\u001b[43m)\u001b[49m\n\u001b[1;32m    257\u001b[0m \u001b[38;5;28;01mexcept\u001b[39;00m \u001b[38;5;167;01mException\u001b[39;00m \u001b[38;5;28;01mas\u001b[39;00m e:\n\u001b[1;32m    258\u001b[0m     \u001b[38;5;66;03m# make sure that we cache the result\u001b[39;00m\n\u001b[1;32m    259\u001b[0m     \u001b[38;5;28mself\u001b[39m\u001b[38;5;241m.\u001b[39m_module \u001b[38;5;241m=\u001b[39m ModuleUnavailable(\n\u001b[1;32m    260\u001b[0m         \u001b[38;5;28mself\u001b[39m\u001b[38;5;241m.\u001b[39m_names[\u001b[38;5;241m0\u001b[39m],\n\u001b[1;32m    261\u001b[0m         \u001b[38;5;124m\"\u001b[39m\u001b[38;5;124mException raised when importing \u001b[39m\u001b[38;5;132;01m%s\u001b[39;00m\u001b[38;5;124m\"\u001b[39m \u001b[38;5;241m%\u001b[39m (\u001b[38;5;28mself\u001b[39m\u001b[38;5;241m.\u001b[39m_names[\u001b[38;5;241m0\u001b[39m],),\n\u001b[0;32m   (...)\u001b[0m\n\u001b[1;32m    264\u001b[0m         package,\n\u001b[1;32m    265\u001b[0m     )\n",
      "File \u001b[0;32m~/anaconda3/envs/h2v-trader/lib/python3.10/site-packages/pyomo/common/dependencies.py:572\u001b[0m, in \u001b[0;36m_perform_import\u001b[0;34m(name, error_message, minimum_version, callback, importer, catch_exceptions, package)\u001b[0m\n\u001b[1;32m    570\u001b[0m \u001b[38;5;28;01mif\u001b[39;00m minimum_version \u001b[38;5;129;01mis\u001b[39;00m \u001b[38;5;28;01mNone\u001b[39;00m \u001b[38;5;129;01mor\u001b[39;00m check_min_version(module, minimum_version):\n\u001b[1;32m    571\u001b[0m     \u001b[38;5;28;01mif\u001b[39;00m callback \u001b[38;5;129;01mis\u001b[39;00m \u001b[38;5;129;01mnot\u001b[39;00m \u001b[38;5;28;01mNone\u001b[39;00m:\n\u001b[0;32m--> 572\u001b[0m         \u001b[43mcallback\u001b[49m\u001b[43m(\u001b[49m\u001b[43mmodule\u001b[49m\u001b[43m,\u001b[49m\u001b[43m \u001b[49m\u001b[38;5;28;43;01mTrue\u001b[39;49;00m\u001b[43m)\u001b[49m\n\u001b[1;32m    573\u001b[0m     \u001b[38;5;28;01mreturn\u001b[39;00m module, \u001b[38;5;28;01mTrue\u001b[39;00m\n\u001b[1;32m    574\u001b[0m \u001b[38;5;28;01melse\u001b[39;00m:\n",
      "File \u001b[0;32m~/anaconda3/envs/h2v-trader/lib/python3.10/site-packages/pyomo/common/dependencies.py:715\u001b[0m, in \u001b[0;36m_finalize_numpy\u001b[0;34m(np, available)\u001b[0m\n\u001b[1;32m    711\u001b[0m     \u001b[38;5;66;03m# We have deprecated RegisterBooleanType, so we will mock up the\u001b[39;00m\n\u001b[1;32m    712\u001b[0m     \u001b[38;5;66;03m# registration here (to bypass the deprecation warning) until we\u001b[39;00m\n\u001b[1;32m    713\u001b[0m     \u001b[38;5;66;03m# finally remove all support for it\u001b[39;00m\n\u001b[1;32m    714\u001b[0m     numeric_types\u001b[38;5;241m.\u001b[39m_native_boolean_types\u001b[38;5;241m.\u001b[39madd(t)\n\u001b[0;32m--> 715\u001b[0m \u001b[38;5;28;01mfor\u001b[39;00m t \u001b[38;5;129;01min\u001b[39;00m (\u001b[43mnp\u001b[49m\u001b[38;5;241;43m.\u001b[39;49m\u001b[43mfloat_\u001b[49m, np\u001b[38;5;241m.\u001b[39mfloat16, np\u001b[38;5;241m.\u001b[39mfloat32, np\u001b[38;5;241m.\u001b[39mfloat64):\n\u001b[1;32m    716\u001b[0m     numeric_types\u001b[38;5;241m.\u001b[39mRegisterNumericType(t)\n\u001b[1;32m    717\u001b[0m     \u001b[38;5;66;03m# We have deprecated RegisterBooleanType, so we will mock up the\u001b[39;00m\n\u001b[1;32m    718\u001b[0m     \u001b[38;5;66;03m# registration here (to bypass the deprecation warning) until we\u001b[39;00m\n\u001b[1;32m    719\u001b[0m     \u001b[38;5;66;03m# finally remove all support for it\u001b[39;00m\n",
      "File \u001b[0;32m~/anaconda3/envs/h2v-trader/lib/python3.10/site-packages/numpy/__init__.py:400\u001b[0m, in \u001b[0;36m__getattr__\u001b[0;34m(attr)\u001b[0m\n\u001b[1;32m    397\u001b[0m     \u001b[38;5;28;01mraise\u001b[39;00m \u001b[38;5;167;01mAttributeError\u001b[39;00m(__former_attrs__[attr], name\u001b[38;5;241m=\u001b[39m\u001b[38;5;28;01mNone\u001b[39;00m)\n\u001b[1;32m    399\u001b[0m \u001b[38;5;28;01mif\u001b[39;00m attr \u001b[38;5;129;01min\u001b[39;00m __expired_attributes__:\n\u001b[0;32m--> 400\u001b[0m     \u001b[38;5;28;01mraise\u001b[39;00m \u001b[38;5;167;01mAttributeError\u001b[39;00m(\n\u001b[1;32m    401\u001b[0m         \u001b[38;5;124mf\u001b[39m\u001b[38;5;124m\"\u001b[39m\u001b[38;5;124m`np.\u001b[39m\u001b[38;5;132;01m{\u001b[39;00mattr\u001b[38;5;132;01m}\u001b[39;00m\u001b[38;5;124m` was removed in the NumPy 2.0 release. \u001b[39m\u001b[38;5;124m\"\u001b[39m\n\u001b[1;32m    402\u001b[0m         \u001b[38;5;124mf\u001b[39m\u001b[38;5;124m\"\u001b[39m\u001b[38;5;132;01m{\u001b[39;00m__expired_attributes__[attr]\u001b[38;5;132;01m}\u001b[39;00m\u001b[38;5;124m\"\u001b[39m,\n\u001b[1;32m    403\u001b[0m         name\u001b[38;5;241m=\u001b[39m\u001b[38;5;28;01mNone\u001b[39;00m\n\u001b[1;32m    404\u001b[0m     )\n\u001b[1;32m    406\u001b[0m \u001b[38;5;28;01mif\u001b[39;00m attr \u001b[38;5;241m==\u001b[39m \u001b[38;5;124m\"\u001b[39m\u001b[38;5;124mchararray\u001b[39m\u001b[38;5;124m\"\u001b[39m:\n\u001b[1;32m    407\u001b[0m     warnings\u001b[38;5;241m.\u001b[39mwarn(\n\u001b[1;32m    408\u001b[0m         \u001b[38;5;124m\"\u001b[39m\u001b[38;5;124m`np.chararray` is deprecated and will be removed from \u001b[39m\u001b[38;5;124m\"\u001b[39m\n\u001b[1;32m    409\u001b[0m         \u001b[38;5;124m\"\u001b[39m\u001b[38;5;124mthe main namespace in the future. Use an array with a string \u001b[39m\u001b[38;5;124m\"\u001b[39m\n\u001b[1;32m    410\u001b[0m         \u001b[38;5;124m\"\u001b[39m\u001b[38;5;124mor bytes dtype instead.\u001b[39m\u001b[38;5;124m\"\u001b[39m, \u001b[38;5;167;01mDeprecationWarning\u001b[39;00m, stacklevel\u001b[38;5;241m=\u001b[39m\u001b[38;5;241m2\u001b[39m)\n",
      "\u001b[0;31mAttributeError\u001b[0m: `np.float_` was removed in the NumPy 2.0 release. Use `np.float64` instead."
     ]
    }
   ],
   "source": [
    "import numpy as np\n",
    "import matplotlib.pyplot as plt\n",
    "import pandas as pd\n",
    "import seaborn as sns\n",
    "import pyomo.environ as pyo\n",
    "import matplotlib.dates as mdates\n",
    "from load_data_PLD import get_load_data, get_gen_data, get_spot_prices_data\n",
    "from scipy.interpolate import make_interp_spline\n",
    "import datetime as dt"
   ]
  },
  {
   "cell_type": "code",
   "execution_count": 47,
   "metadata": {},
   "outputs": [],
   "source": [
    "# Algumas configurações dos valores de carga, geração e armazenamento a serem carregados\n",
    "\n",
    "load_max = 25e6#original: 5e6#maiores testes foram com 25\n",
    "gen_max = 150e6#original: 75e6#maiores testes foram com 150\n",
    "node_index = 45#original:45\n",
    "N = 96"
   ]
  },
  {
   "cell_type": "code",
   "execution_count": 48,
   "metadata": {},
   "outputs": [],
   "source": [
    "# Sistema de armazenamento de hidrogênio\n",
    "\n",
    "h2_storage_size_kg = 22.8e3 # unidade em Kg#maiores testes foram com 7600--->30400-->22.7e3(22,8 toneladas por dia)\n",
    "h2_storage_rate = 0.3\n",
    "h2_storage_min_soc = 0.00 * h2_storage_size_kg\n",
    "h2_storage_max_soc = 1.00 * h2_storage_size_kg\n",
    "\n",
    "elec_storage_size_wh = 1e6\n",
    "elec_storage_rate = 0.1\n",
    "elec_storage_min_soc = 0.05 * elec_storage_size_wh\n",
    "elec_storage_max_soc = 0.95 * elec_storage_size_wh"
   ]
  },
  {
   "cell_type": "code",
   "execution_count": 49,
   "metadata": {},
   "outputs": [],
   "source": [
    "time = np.arange(N)"
   ]
  },
  {
   "cell_type": "code",
   "execution_count": 50,
   "metadata": {},
   "outputs": [],
   "source": [
    "# Taxa de conversão de H2 para Eletricidade\n",
    "tx_elec_to_h2 = 55.62e3 # (Wh/kg de H2) (dados do artigo do CBA)\n",
    "tx_h2_to_elec = 86.25e-6 # (kg de H2/Wh) Considerando eficiencia da SGT-400=34,8% em ciclo aberto: Original 86.25e-6\n",
    "\n",
    "efi_elec_to_h2 = 0.755 #FONTE: Siemens Elyzer P-300: 0.755\n",
    "efi_h2_to_elec = 0.348 #------Dados turbina Siemens SGT-400: 34,8%\n",
    "efi_h2_storage_in = 0.9\n",
    "efi_h2_storage_out = 0.9\n",
    "efi_elec_in = 0.9\n",
    "efi_elec_out = 0.9"
   ]
  },
  {
   "cell_type": "code",
   "execution_count": 51,
   "metadata": {},
   "outputs": [],
   "source": [
    "max_elec_to_h2_power = 52.5e6#3*17,5 eletrolizadores Elyzer P-300 para atender a vazão necessária da turbina SGT-400(11MW)\n",
    "\n",
    "# Capacidade máxima de potência elétrica da usina térmica\n",
    "max_gas_power = 11e6#SIEMENS SGT-A400 11MW\n",
    "max_h2_to_elec_power = max_gas_power * 0.25 * tx_h2_to_elec # 0.25 significa tempo 1/4 de hora\n",
    "min_uptime = 8 * 4"
   ]
  },
  {
   "cell_type": "code",
   "execution_count": 52,
   "metadata": {},
   "outputs": [],
   "source": [
    "h2_price_start = 22.75  # Preço inicial do hidrogênio: 22.75 \n",
    "h2_price_end = 49.94  # Limite superior do preço do hidrogênio:49,94\n",
    "num_points = 96      # 96 intervalos de 15 minutos para 24 horas\n",
    "smooth_factor = 1.5  # Fator de suavização para controlar a variação entre pontos\n",
    "\n",
    "# Inicializando a lista com o preço inicial\n",
    "h2_price = [np.random.uniform(h2_price_start, h2_price_end)]\n",
    "\n",
    "# Gerar uma série de preços suavizados\n",
    "for _ in range(1, num_points):\n",
    "    # O próximo preço é baseado no preço anterior com uma pequena variação\n",
    "    next_price = h2_price[-1] + np.random.uniform(-smooth_factor, smooth_factor)\n",
    "    # Garantir que o preço esteja dentro dos limites definidos\n",
    "    next_price = np.clip(next_price, h2_price_start, h2_price_end)\n",
    "    \n",
    "    h2_price.append(next_price)\n",
    "\n",
    "# Converte para lista (se necessário)\n",
    "h2_price = h2_price\n",
    "plt.show()"
   ]
  },
  {
   "cell_type": "code",
   "execution_count": 53,
   "metadata": {},
   "outputs": [],
   "source": [
    "load = get_load_data(node_index)[:96] * load_max\n",
    "sload = np.sqrt(load.pload**2 + load.qload**2)\n",
    "pv_gen = get_gen_data(node_index)[:96] * gen_max\n",
    "spot_price = get_spot_prices_data(30)[:96]"
   ]
  },
  {
   "cell_type": "markdown",
   "metadata": {},
   "source": [
    "GRÁFICO A SEGUIR ADICIONADO PARA VERIFICAR O PLD"
   ]
  },
  {
   "cell_type": "code",
   "execution_count": 54,
   "metadata": {},
   "outputs": [
    {
     "data": {
      "text/plain": [
       "<function matplotlib.pyplot.show(close=None, block=None)>"
      ]
     },
     "execution_count": 54,
     "metadata": {},
     "output_type": "execute_result"
    },
    {
     "data": {
      "image/png": "[encoded data removed]",
      "text/plain": [
       "<Figure size 640x480 with 1 Axes>"
      ]
     },
     "metadata": {},
     "output_type": "display_data"
    }
   ],
   "source": [
    "plt.bar(time, spot_price.Price)\n",
    "plt.xlim((0.0, 100.0))\n",
    "plt.ylim((0.0, 650.0))\n",
    "plt.grid(True)\n",
    "\n",
    "\n",
    "#Identificando os elementos do gráfico\n",
    "plt.title('PLD', fontsize=14)  # Título do gráfico\n",
    "plt.xlabel('Intervalos de tempo de 15min', fontsize=10)  # Título do eixo X\n",
    "plt.ylabel('R$/MW', fontsize=10)  # Título do eixo Y\n",
    "plt.show"
   ]
  },
  {
   "cell_type": "code",
   "execution_count": 55,
   "metadata": {},
   "outputs": [],
   "source": [
    "# %%\n",
    "model = pyo.ConcreteModel(name='H2V')\n",
    "\n",
    "model.time_set = pyo.Set(initialize=time)"
   ]
  },
  {
   "cell_type": "code",
   "execution_count": 56,
   "metadata": {},
   "outputs": [],
   "source": [
    "# Parâmetros de entrada\n",
    "model.param_load = pyo.Param(model.time_set, initialize=load.pload.values, mutable=False)\n",
    "model.param_pv_gen = pyo.Param(model.time_set, initialize=pv_gen.pgen.values, mutable=False)\n",
    "model.param_spot_prices = pyo.Param(model.time_set, initialize=spot_price.Price, mutable=False)"
   ]
  },
  {
   "cell_type": "code",
   "execution_count": 57,
   "metadata": {},
   "outputs": [],
   "source": [
    "# Parâmetros do módulo de armazenamento de eletricidade\n",
    "model.max_elec_charge = pyo.Param(initialize=elec_storage_rate * elec_storage_size_wh)\n",
    "model.max_elec_discharge = pyo.Param(initialize=elec_storage_rate * elec_storage_size_wh)\n",
    "model.elec_storage_size = pyo.Param(initialize=elec_storage_size_wh)\n",
    "model.elec_min_soc = pyo.Param(initialize=elec_storage_min_soc)\n",
    "model.elec_max_soc = pyo.Param(initialize=elec_storage_max_soc)"
   ]
  },
  {
   "cell_type": "code",
   "execution_count": 58,
   "metadata": {},
   "outputs": [],
   "source": [
    "# Parâmetros do módulo de armazenamento de H2\n",
    "model.max_h2_charge = pyo.Param(initialize=h2_storage_rate * h2_storage_size_kg)\n",
    "model.max_h2_discharge = pyo.Param(initialize=h2_storage_rate * h2_storage_size_kg)\n",
    "model.h2_storage_size = pyo.Param(initialize=h2_storage_size_kg)\n",
    "model.h2_min_soc = pyo.Param(initialize=h2_storage_min_soc)\n",
    "model.h2_max_soc = pyo.Param(initialize=h2_storage_max_soc)"
   ]
  },
  {
   "cell_type": "code",
   "execution_count": 59,
   "metadata": {},
   "outputs": [],
   "source": [
    "# Variáveis de compra/venda de energia\n",
    "model.var_power_purchase = pyo.Var(model.time_set, domain=pyo.Reals)"
   ]
  },
  {
   "cell_type": "code",
   "execution_count": 60,
   "metadata": {},
   "outputs": [],
   "source": [
    "# Variáveis de armazenamento de eletricidade\n",
    "model.var_elec_charging = pyo.Var(time, within=pyo.Binary)\n",
    "model.var_elec_discharging = pyo.Var(time, within=pyo.Binary)\n",
    "model.var_elec_charge = pyo.Var(time,\n",
    "                                initialize={i: j for i, j in zip(time, np.zeros(len(time)))},\n",
    "                                domain=pyo.NonNegativeReals)\n",
    "model.var_elec_discharge = pyo.Var(time,\n",
    "                                   initialize={i: j for i, j in zip(time, np.zeros(len(time)))},\n",
    "                                   domain=pyo.NonNegativeReals)\n",
    "model.var_elec_soc = pyo.Var(time,\n",
    "                             domain=pyo.NonNegativeReals,\n",
    "                             bounds=(model.elec_min_soc, model.elec_max_soc))"
   ]
  },
  {
   "cell_type": "code",
   "execution_count": 61,
   "metadata": {},
   "outputs": [],
   "source": [
    "# Variável de quantidade de eletricidade utilizada para produção de H2\n",
    "model.var_elet_on_off = pyo.Var(time, within=pyo.Binary)\n",
    "\n",
    "model.var_elec_to_h2_mass = pyo.Var(time,\n",
    "                                    initialize={i: j for i, j in zip(time, np.zeros(len(time)))},\n",
    "                                    domain=pyo.NonNegativeReals)"
   ]
  },
  {
   "cell_type": "code",
   "execution_count": 62,
   "metadata": {},
   "outputs": [],
   "source": [
    "# Variável de quantidade de massa de H2 produzida pelo eletrolisador \n",
    "model.var_h2_mass_from_elet = pyo.Var(time,\n",
    "                                      initialize={i: j for i, j in zip(time, np.zeros(len(time)))},\n",
    "                                      domain=pyo.NonNegativeReals)"
   ]
  },
  {
   "cell_type": "code",
   "execution_count": 63,
   "metadata": {},
   "outputs": [],
   "source": [
    "# Variável de quantidade de massa de H2 produzida pelo eletrolisador e destinada ao armazenamento\n",
    "model.var_h2_mass_to_storage = pyo.Var(time,\n",
    "                                       initialize={i: j for i, j in zip(time, np.zeros(len(time)))},\n",
    "                                       domain=pyo.NonNegativeReals)"
   ]
  },
  {
   "cell_type": "code",
   "execution_count": 64,
   "metadata": {},
   "outputs": [],
   "source": [
    "# Variável de quantidade de massa de H2 proveniente do armazenamento para ??\n",
    "model.var_h2_mass_from_storage = pyo.Var(time,\n",
    "                                         initialize={i: j for i, j in zip(time, np.zeros(len(time)))},\n",
    "                                         domain=pyo.NonNegativeReals)"
   ]
  },
  {
   "cell_type": "code",
   "execution_count": 65,
   "metadata": {},
   "outputs": [],
   "source": [
    "# Variável de quantidade de massa de H2 destinada à queima para produção de eletricidade\n",
    "model.var_h2_mass_to_elec = pyo.Var(time,\n",
    "                                       initialize={i: j for i, j in zip(time, np.zeros(len(time)))},\n",
    "                                       domain=pyo.NonNegativeReals)"
   ]
  },
  {
   "cell_type": "code",
   "execution_count": 66,
   "metadata": {},
   "outputs": [],
   "source": [
    "# Variável de quantidade de massa de H2 destinada para  comercialização direta\n",
    "model.var_h2_mass_to_market = pyo.Var(time,\n",
    "                                      initialize={i: j for i, j in zip(time, np.zeros(len(time)))},\n",
    "                                      domain=pyo.NonNegativeReals)\n",
    "\n",
    "model.var_gas_power_on_off = pyo.Var(time, domain=pyo.Binary)\n",
    "\n",
    "model.var_gas_start_up = pyo.Var(time, domain=pyo.Binary)\n",
    "\n",
    "model.var_gas_shut_down = pyo.Var(time, domain=pyo.Binary)\n",
    "\n",
    "model.var_elec_from_gas = pyo.Var(time,\n",
    "                                  initialize={i: j for i, j in zip(time, np.zeros(len(time)))},\n",
    "                                  domain=pyo.NonNegativeReals)"
   ]
  },
  {
   "cell_type": "code",
   "execution_count": 67,
   "metadata": {},
   "outputs": [],
   "source": [
    "# TODO: model.var_gn_mass_to_plant\n",
    "\n",
    "# Variáveis de armazenamento de H2\n",
    "model.var_h2_charging = pyo.Var(time, within=pyo.Binary)\n",
    "model.var_h2_discharging = pyo.Var(time, within=pyo.Binary)\n",
    "model.var_h2_charge = pyo.Var(time,\n",
    "                              initialize={i: j for i, j in zip(time, np.zeros(len(time)))},\n",
    "                              domain=pyo.NonNegativeReals)\n",
    "model.var_h2_discharge = pyo.Var(time,\n",
    "                                 initialize={i: j for i, j in zip(time, np.zeros(len(time)))},\n",
    "                                 domain=pyo.NonNegativeReals)\n",
    "model.var_h2_soc = pyo.Var(time,\n",
    "                           domain=pyo.NonNegativeReals,\n",
    "                           bounds=(model.h2_min_soc, model.h2_max_soc))"
   ]
  },
  {
   "cell_type": "markdown",
   "metadata": {},
   "source": [
    "Restrição de nível máximo de armazenamento:\n",
    "\n",
    "$X_{nivel} < A_{max}$"
   ]
  },
  {
   "cell_type": "code",
   "execution_count": 68,
   "metadata": {},
   "outputs": [],
   "source": [
    "# Restrição de conversão Eletricidade -> H2\n",
    "\n",
    "def max_eletroliser_power(model, t):\n",
    "    return model.var_elec_to_h2_mass[t] == max_elec_to_h2_power * model.var_elet_on_off[t]\n",
    "\n",
    "model.max_eletroliser_power_constraint = pyo.Constraint(time, rule=max_eletroliser_power)\n",
    "\n",
    "def elec_to_h2_constraint(model, t):\n",
    "    return (model.var_h2_mass_from_elet[t] == 1.0 / tx_elec_to_h2 * model.var_elec_to_h2_mass[t] * 0.25)\n",
    "\n",
    "model.elec_to_h2_constraint = pyo.Constraint(time, rule=elec_to_h2_constraint)\n",
    "\n",
    "# Restrição de conversão H2 -> Eletricidade\n",
    "def max_gas_power(model, t):\n",
    "    return model.var_h2_mass_to_elec[t] == max_h2_to_elec_power * model.var_gas_power_on_off[t]\n",
    "\n",
    "model.max_gas_power_constraint = pyo.Constraint(time, rule=max_gas_power)"
   ]
  },
  {
   "cell_type": "code",
   "execution_count": 69,
   "metadata": {},
   "outputs": [],
   "source": [
    "# Restrição Liga-Desliga ao mesmo tempo\n",
    "def start_up_shut_down_constraint(model, t):\n",
    "    return model.var_gas_start_up[t] + model.var_gas_shut_down[t] <= 1\n",
    "\n",
    "model.start_up_shut_down_constraint = pyo.Constraint(time, rule=start_up_shut_down_constraint)"
   ]
  },
  {
   "cell_type": "code",
   "execution_count": 70,
   "metadata": {},
   "outputs": [],
   "source": [
    "# Restrição de causalidade entre estado da usina (ligado/desligado) e \n",
    "# instante de ligamento e instante de deligamento\n",
    "def state_startup_shutdown(model, t):\n",
    "    return model.var_gas_start_up[t] - model.var_gas_shut_down[t] == model.var_gas_power_on_off[t] - model.var_gas_power_on_off[t-1]\n",
    "model.state_startup_shutdown_constraint = pyo.Constraint(time[1:], rule=state_startup_shutdown)"
   ]
  },
  {
   "cell_type": "code",
   "execution_count": 71,
   "metadata": {},
   "outputs": [],
   "source": [
    "# Restrição de Tempo mínimo de funcionamento da usina\n",
    "model.min_time_work_power_plant_constraint = pyo.ConstraintList()\n",
    "time_window = np.arange(1, len(time) - min_uptime + 1)\n",
    "\n",
    "for k in time_window:\n",
    "    states = [model.var_gas_power_on_off[i] for i in range(k, k + min_uptime - 1)]\n",
    "    model.min_time_work_power_plant_constraint.add(sum(states) >= min_uptime * model.var_gas_start_up[k])"
   ]
  },
  {
   "cell_type": "code",
   "execution_count": 72,
   "metadata": {},
   "outputs": [],
   "source": [
    "# Restrição de Tempo mínimo de funcionamento da usina para a última janela de tempo \n",
    "model.last_min_time_work_power_plant_constraint = pyo.ConstraintList()\n",
    "last_time_window = np.arange(len(time) - min_uptime + 2, len(time))\n",
    "for k in last_time_window:\n",
    "    states = [model.var_gas_power_on_off[i] - model.var_gas_start_up[k] for i in range(k, len(time))]\n",
    "    model.last_min_time_work_power_plant_constraint.add(sum(states) >= 0.0)"
   ]
  },
  {
   "cell_type": "code",
   "execution_count": 73,
   "metadata": {},
   "outputs": [],
   "source": [
    "# Restrição \n",
    "def h2_to_elec_constraint(model, t):\n",
    "    return (model.var_elec_from_gas[t] == (1.0 / tx_h2_to_elec) * model.var_h2_mass_to_elec[t] * (1.0/0.25))\n",
    "    \n",
    "model.h2_to_elec_constraint = pyo.Constraint(time, rule=h2_to_elec_constraint)"
   ]
  },
  {
   "cell_type": "code",
   "execution_count": 74,
   "metadata": {},
   "outputs": [],
   "source": [
    "# conexão eletrolisador com armazenamento de H2\n",
    "def h2_mass_to_storage_constraint(model, t):\n",
    "    return model.var_h2_charge[t] == model.var_h2_mass_to_storage[t]\n",
    "\n",
    "model.h2_mass_to_storage_constraint = pyo.Constraint(time, rule=h2_mass_to_storage_constraint)"
   ]
  },
  {
   "cell_type": "code",
   "execution_count": 75,
   "metadata": {},
   "outputs": [],
   "source": [
    "# conexão armazenamento de H2 com plata de geração e mercado de H2\n",
    "def h2_mass_from_storage_constraint(model, t):\n",
    "    return model.var_h2_discharge[t] == model.var_h2_mass_from_storage[t]\n",
    "\n",
    "model.h2_mass_from_storage_constraint = pyo.Constraint(time, rule=h2_mass_from_storage_constraint)"
   ]
  },
  {
   "cell_type": "code",
   "execution_count": 76,
   "metadata": {},
   "outputs": [],
   "source": [
    "# Restrição de Balanço de Potência Elétrica\n",
    "def elec_power_balance_constraint(model, t):\n",
    "    return (model.param_pv_gen[t] + model.var_elec_from_gas[t] + model.var_elec_discharge[t] + model.var_power_purchase[t] == model.var_elec_to_h2_mass[t] + model.param_load[t] + model.var_elec_charge[t])\n",
    "\n",
    "model.elec_power_balance_constraint = pyo.Constraint(time, rule=elec_power_balance_constraint)"
   ]
  },
  {
   "cell_type": "code",
   "execution_count": 77,
   "metadata": {},
   "outputs": [],
   "source": [
    "# Restrição de Balanço de Gás 1: Saída do Eletrolisador\n",
    "def h2_mass_balance_constraint_1(model, t):\n",
    "    return (model.var_h2_mass_to_storage[t] == model.var_h2_mass_from_elet[t])\n",
    "\n",
    "model.h2_mass_balance_constraint_1 = pyo.Constraint(time, rule=h2_mass_balance_constraint_1)"
   ]
  },
  {
   "cell_type": "code",
   "execution_count": 78,
   "metadata": {},
   "outputs": [],
   "source": [
    "# Restrição de Balanço de Gás 2: Saída do tanque de Armazenamento\n",
    "def h2_mass_balance_constraint_2(model, t):\n",
    "    return (model.var_h2_mass_from_storage[t] == model.var_h2_mass_to_elec[t] + model.var_h2_mass_to_market[t])\n",
    "\n",
    "model.h2_mass_balance_constraint_2 = pyo.Constraint(time, rule=h2_mass_balance_constraint_2)"
   ]
  },
  {
   "cell_type": "markdown",
   "metadata": {},
   "source": [
    "Restrições de armazenamento de eletricidade:"
   ]
  },
  {
   "cell_type": "code",
   "execution_count": 79,
   "metadata": {},
   "outputs": [],
   "source": [
    "# restrição que impossibilita a bateria de carregar e descarregar ao mesmo tempo\n",
    "def charging_discharging_elec_constraint(model, t):\n",
    "    return model.var_elec_charging[t] + model.var_elec_discharging[t] <= 1\n",
    "\n",
    "model.charge_discharge_elec_constraint = pyo.Constraint(time, rule=charging_discharging_elec_constraint)\n",
    "\n",
    "# def charging_discharging_energy_constraint(model, t):\n",
    "#     return model.var_elec_charge[t] * model.var_elec_discharge[t] == 0.0\n",
    "\n",
    "# model.charge_discharge_energy_constraint = pyo.Constraint(time, rule=charging_discharging_energy_constraint)\n",
    "\n",
    "####"
   ]
  },
  {
   "cell_type": "code",
   "execution_count": 80,
   "metadata": {},
   "outputs": [],
   "source": [
    "# restrição de potência máxima de carga \n",
    "def max_charge_rate_constraint(model, t):\n",
    "    return model.var_elec_charge[t] <= model.max_elec_charge\n",
    "\n",
    "model.max_charge_rate_constraint = pyo.Constraint(time, rule=max_charge_rate_constraint)"
   ]
  },
  {
   "cell_type": "code",
   "execution_count": 81,
   "metadata": {},
   "outputs": [],
   "source": [
    "# restrição de potência máxima de descarga\n",
    "def max_discharge_rate_constraint(model, t):\n",
    "    return model.var_elec_discharge[t] <= model.max_elec_discharge\n",
    "\n",
    "model.max_discharge_rate_constraint = pyo.Constraint(time, rule=max_discharge_rate_constraint)"
   ]
  },
  {
   "cell_type": "code",
   "execution_count": 82,
   "metadata": {},
   "outputs": [],
   "source": [
    "# restrição de carga inicial da bateria\n",
    "model.init_soc_constraint = pyo.Constraint(expr=model.var_elec_soc[0] == 0.1 * elec_storage_size_wh)"
   ]
  },
  {
   "cell_type": "code",
   "execution_count": 83,
   "metadata": {},
   "outputs": [],
   "source": [
    "# restrição que modela o armazenamento gradual do dispositivo\n",
    "model.soc_memory_constraint = pyo.ConstraintList()\n",
    "for t_m, t in zip(time[:-1], time[1:]):\n",
    "    rule_ = (model.var_elec_soc[t] == model.var_elec_soc[t_m] + (model.var_elec_charge[t_m] - model.var_elec_discharge[t_m]) * 0.25)\n",
    "    model.soc_memory_constraint.add(rule_)"
   ]
  },
  {
   "cell_type": "markdown",
   "metadata": {},
   "source": [
    "Restrições de armazenamento de H2:"
   ]
  },
  {
   "cell_type": "code",
   "execution_count": 84,
   "metadata": {},
   "outputs": [],
   "source": [
    "# restrição que impossibilita o tanque de carregar e descarregar ao mesmo tempo\n",
    "def charging_discharging_h2_constraint(model, t):\n",
    "    return model.var_h2_charging[t] + model.var_h2_discharging[t] <= 1\n",
    "\n",
    "model.charge_discharge_h2_constraint = pyo.Constraint(time, rule=charging_discharging_h2_constraint)\n",
    "\n",
    "# def charging_discharging_h2_constraint(model, t):\n",
    "#     return model.var_h2_charge[t] * model.var_h2_discharge[t] == 0.0\n",
    "\n",
    "# model.charge_discharge_h2_constraint = pyo.Constraint(time, rule=charging_discharging_h2_constraint)"
   ]
  },
  {
   "cell_type": "code",
   "execution_count": 85,
   "metadata": {},
   "outputs": [],
   "source": [
    "# restrição de potência máxima de carga \n",
    "def max_h2_charge_rate_constraint(model, t):\n",
    "    return model.var_h2_charge[t] <= model.max_h2_charge\n",
    "\n",
    "model.max_h2_charge_rate_constraint = pyo.Constraint(time, rule=max_h2_charge_rate_constraint)"
   ]
  },
  {
   "cell_type": "code",
   "execution_count": 86,
   "metadata": {},
   "outputs": [],
   "source": [
    "# restrição de potência máxima de descarga\n",
    "def max_h2_discharge_rate_constraint(model, t):\n",
    "    return model.var_h2_discharge[t] <= model.max_h2_discharge\n",
    "\n",
    "model.max_h2_discharge_rate_constraint = pyo.Constraint(time, rule=max_h2_discharge_rate_constraint)"
   ]
  },
  {
   "cell_type": "code",
   "execution_count": 87,
   "metadata": {},
   "outputs": [],
   "source": [
    "# restrição de carga inicial do armazenamento de h2\n",
    "model.init_h2_soc_constraint = pyo.Constraint(expr=model.var_h2_soc[0] == 0.5 * h2_storage_size_kg) # ESSA LINHA É O CÓDIGO ORIGINAL - Alterado para 0 para impedir qualquer partida da usina sem gás\n",
    "#model.init_h2_soc_constraint = pyo.Constraint(expr=model.var_h2_soc[0] == 0.00 * h2_storage_size_kg)"
   ]
  },
  {
   "cell_type": "code",
   "execution_count": 88,
   "metadata": {},
   "outputs": [],
   "source": [
    "# TODO: Validar alteração da lógica de armazenamento de H\n",
    "# restrição que modela o armazenamento gradual do dispositivo\n",
    "model.h2_soc_memory_constraint = pyo.ConstraintList()\n",
    "for t_m, t in zip(time[:-1], time[1:]):\n",
    "    # rule_ = (model.var_h2_soc[t] == model.var_h2_soc[t_m] + (model.var_h2_charge[t_m] - model.var_h2_discharge[t_m]) * 0.25)\n",
    "    rule_ = (model.var_h2_soc[t] == model.var_h2_soc[t_m] + (model.var_h2_charge[t_m] - model.var_h2_discharge[t_m]))\n",
    "    model.h2_soc_memory_constraint.add(rule_)"
   ]
  },
  {
   "cell_type": "markdown",
   "metadata": {},
   "source": [
    "Função objetivo:"
   ]
  },
  {
   "cell_type": "code",
   "execution_count": 89,
   "metadata": {},
   "outputs": [],
   "source": [
    "# %%\n",
    "# Função Objetivo\n",
    "def obj_function(model):\n",
    "    y = list() \n",
    "    for t in time:\n",
    "        aux = model.param_spot_prices[t] * (-model.var_power_purchase[t]) + h2_price[t] * (model.var_h2_mass_to_market[t])\n",
    "        y.append(aux)\n",
    "    return sum(y)\n",
    "model.cost_function = pyo.Objective(rule=obj_function, sense=pyo.maximize)"
   ]
  },
  {
   "cell_type": "code",
   "execution_count": null,
   "metadata": {},
   "outputs": [],
   "source": [
    "solver = pyo.SolverFactory('cplex')\n",
    "solver.solve(model)"
   ]
  },
  {
   "cell_type": "markdown",
   "metadata": {},
   "source": [
    "Solving the model:"
   ]
  },
  {
   "cell_type": "code",
   "execution_count": null,
   "metadata": {},
   "outputs": [],
   "source": [
    "# %%\n",
    "# ----------------------------------\n",
    "# Solving the model\n",
    "# ----------------------------------\n",
    "solver = pyo.SolverFactory('cplex')\n",
    "results = solver.solve(model)\n",
    "if (results.solver.status == pyo.SolverStatus.ok) and (results.solver.termination_condition == pyo.TerminationCondition.optimal):\n",
    "    print (\"This is feasible and optimal\")\n",
    "elif results.solver.termination_condition == pyo.TerminationCondition.infeasible:\n",
    "    print (\"This is infeasible\")\n",
    "else:\n",
    "    # something else is wrong\n",
    "    print (str(results.solver))"
   ]
  },
  {
   "cell_type": "markdown",
   "metadata": {},
   "source": [
    "Plotagens:"
   ]
  },
  {
   "cell_type": "code",
   "execution_count": null,
   "metadata": {},
   "outputs": [],
   "source": [
    "# Análise de Resultados\n",
    "pyo.value(model.cost_function)\n",
    "plt.figure(figsize=(10, 6))#AUMENTA A FIGURA\n",
    "# %%\n",
    "elec_storage_discharge = np.array([i.value for i in model.var_elec_discharge.values()])\n",
    "# %%\n",
    "elec_storage_charge = np.array([i.value for i in model.var_elec_charge.values()])\n",
    "# %%\n",
    "elec_to_h2_mass = np.array([i.value for i in model.var_elec_to_h2_mass.values()])\n",
    "# %%\n",
    "elec_from_gas = np.array([i.value for i in model.var_elec_from_gas.values()])\n",
    "# %%\n",
    "power_to_purchase = np.array([i.value for i in model.var_power_purchase.values()])\n",
    "power_buy= np.array([i if i > 0.0 else 0.0 for i in power_to_purchase])\n",
    "power_sell = np.array([-i if i < 0.0 else 0.0 for i in power_to_purchase])\n",
    "plt.bar(time, power_to_purchase)\n",
    "# %%\n",
    "soc_elec = np.array([i.value for i in model.var_elec_soc.values()])\n",
    "plt.bar(time, soc_elec)\n",
    "# %%\n",
    "soc_h2 = np.array([i.value for i in model.var_h2_soc.values()])\n",
    "plt.bar(time, soc_h2)\n",
    "# %%\n",
    "power_plant = np.array([i.value for i in model.var_elec_from_gas.values()])\n",
    "plt.bar(time, power_plant)\n",
    "# %%\n",
    "h2_to_market = np.array([i.value for i in model.var_h2_mass_to_market.values()])\n",
    "plt.bar(time, h2_to_market)\n",
    "\n",
    "# %%\n",
    "#plt.figure(figsize=(10, 6))  INTERESSANTE: AO INSERIR ESTA LINHA DOIS GRÁFICOS SURGEM, OU SEJA OS COMANDOS ACIMA CRIAM UM GRÁFICO E ABAIXO CONTINUA A CRIAÇÃO, SOBREPONDO-OS\n",
    "plt.bar(time, load.pload.values)\n",
    "plt.bar(time, elec_storage_charge, bottom=load.pload.values)\n",
    "plt.bar(time, elec_to_h2_mass, bottom=load.pload.values+elec_storage_charge)\n",
    "plt.bar(time, power_sell, bottom=load.pload.values+elec_storage_charge+elec_to_h2_mass)\n",
    "plt.bar(time, -pv_gen.pgen.values)\n",
    "plt.bar(time, -elec_storage_discharge, bottom=-pv_gen.pgen.values)\n",
    "plt.bar(time, -elec_from_gas, bottom=-elec_storage_discharge-pv_gen.pgen.values)\n",
    "plt.bar(time, -power_buy, bottom=-elec_storage_discharge-pv_gen.pgen.values-elec_from_gas)\n",
    "plt.legend(['load', 'storage-charge', 'power-2-h2', 'power-sell', 'pv-gen', 'storage-discharge', 'h2-2-power', 'power-buy'], loc='center left', bbox_to_anchor=(1, 0.5))\n",
    "plt.grid(True)\n",
    "plt.show()"
   ]
  },
  {
   "cell_type": "markdown",
   "metadata": {},
   "source": [
    "CARGA E DESCARGA DO BESS"
   ]
  },
  {
   "cell_type": "code",
   "execution_count": null,
   "metadata": {},
   "outputs": [],
   "source": [
    "plt.bar(time, -elec_storage_charge, color='cyan', label='Carga da bateria')\n",
    "plt.bar(time, elec_storage_discharge, color='magenta', label='Descarga da bateria')\n"
   ]
  },
  {
   "cell_type": "code",
   "execution_count": null,
   "metadata": {},
   "outputs": [],
   "source": [
    "#import matplotlib.pyplot as plt\n",
    "\n",
    "# Criar a figura com fundo branco\n",
    "fig, ax1 = plt.subplots(figsize=(10, 6), facecolor='white')\n",
    "\n",
    "# Plotar os gráficos com cores diferenciadas\n",
    "ax1.bar(time, -load.pload.values, color='blue', label='Carga')\n",
    "ax1.bar(time, -elec_to_h2_mass, bottom=-load.pload.values, color='#90EE90', label='Energia para produção de H2V')\n",
    "ax1.bar(time, power_sell, color='cyan', label='Energia vendida')\n",
    "ax1.bar(time, power_buy, color='red', label='Energia comprada')\n",
    "ax1.bar(time, pv_gen.pgen.values, color='green', label='Geração solar')\n",
    "ax1.bar(time, elec_from_gas, color='gray', label='Geração Termelétrica')\n",
    "ax1.bar(time, 100*elec_storage_charge, bottom=elec_to_h2_mass+power_sell-power_buy, color='orange', label='Carga da bateria')\n",
    "ax1.bar(time, 100*elec_storage_discharge, bottom=pv_gen.pgen.values + elec_from_gas + power_buy, color='purple', label='Descarga da bateria')\n",
    "# Criar um segundo eixo y\n",
    "ax2 = ax1.twinx()\n",
    "\n",
    "# Plotar o eixo secundário\n",
    "#ax2.step(time, -elec_storage_charge, color='orange', label='Carga da bateria', where='mid')\n",
    "#ax2.step(time, elec_storage_discharge, color='purple', label='Descarga da bateria', where='mid')\n",
    "\n",
    "# Definir os rótulos dos eixos e título\n",
    "# ax1.set_xlabel('Horário do Dia (Intervalos de 15 Minutos)', fontsize=10, color='black')\n",
    "# ax1.set_ylabel('Valores de Potência e Carga (W/Wh/Wp)', fontsize=10, color='black')\n",
    "# ax2.set_ylabel('Armazenamento de Energia (Wh)', fontsize=10, color='black')\n",
    "\n",
    "# Ajustar as cores das legendas e da grade\n",
    "ax1.legend(fontsize=6, loc='upper left')\n",
    "ax2.legend(fontsize=6, loc='upper right')\n",
    "ax1.grid(True, color='gray', linestyle='--', linewidth=0.5)\n",
    "\n",
    "# Ajustar a cor dos ticks\n",
    "ax1.tick_params(colors='black', which='both')\n",
    "ax2.tick_params(colors='black', which='both')\n",
    "\n",
    "# Reposicionar a legenda para fora do gráfico\n",
    "fig.tight_layout()\n",
    "fig.subplots_adjust(right=0.75)  # Ajusta a posição do gráfico para acomodar a legenda\n",
    "\n",
    "# Exibir o gráfico\n",
    "plt.show()\n"
   ]
  },
  {
   "cell_type": "code",
   "execution_count": null,
   "metadata": {},
   "outputs": [],
   "source": [
    "# Definindo o fundo como branco (removendo transparência)\n",
    "plt.gcf().set_facecolor('white')\n",
    "\n",
    "# Crie a figura e os eixos\n",
    "fig, ax1 = plt.subplots(figsize=(10, 6), facecolor='white')\n",
    "\n",
    "# Plotando as barras de Energia comercializada e Energia para produção de H2V no eixo primário\n",
    "plt.bar(time, -load.pload.values, label='Carga', color='blue')\n",
    "plt.bar(time, pv_gen.pgen.values, label='Geração solar', color='green')\n",
    "ax1.bar(time, -power_sell, bottom=-load.pload.values-elec_to_h2_mass, label='Energia vendida', color='brown')\n",
    "ax1.bar(time, -elec_to_h2_mass, bottom=-load.pload.values-power_sell, label='Energia para produção de H₂V', color='red')\n",
    "ax1.bar(time, power_buy, bottom=pv_gen.pgen.values, label='Energia comprada no grid', color='orange')\n",
    "ax1.bar(time, elec_storage_charge, color='cyan', label='Carga da bateria')\n",
    "ax1.bar(time, -elec_storage_discharge, color='magenta', label='Descarga da bateria')\n",
    "ax1.bar(time, power_plant, label='Geração UTE', color='gray')\n",
    "\n",
    "# Configurações dos eixos e legenda\n",
    "ax1.set_xlabel('Hora do dia (96 intervalos de 15 Minutos)', fontsize=12)\n",
    "ax1.set_ylabel('Balanço energético', fontsize=12)\n",
    "ax1.grid(True, linestyle='--', linewidth=0.5)\n",
    "\n",
    "# Criando um segundo eixo y para o PLD (Preço Spot)\n",
    "ax2 = ax1.twinx()\n",
    "ax2.plot(time, spot_price.Price, color='purple', label='PLD', marker='.')\n",
    "ax2.set_ylabel('PLD (R$/MW)', fontsize=12)\n",
    "\n",
    "# Posicionando a legenda na parte inferior e distribuindo horizontalmente\n",
    "ax1.legend(loc='upper center', bbox_to_anchor=(0.5, -0.15), ncol=3, fontsize=12)\n",
    "ax2.legend(loc='upper right', fontsize=12)\n",
    "\n",
    "# Ajustando o layout para acomodar a legenda\n",
    "plt.tight_layout()\n",
    "\n",
    "# Salvando o gráfico no formato EPS, sem transparência e com o texto como curvas\n",
    "#plt.savefig('Cen_1a6_balan.eps', format='eps', transparent=False)\n",
    "\n",
    "# Mostra o gráfico na tela\n",
    "plt.show()"
   ]
  },
  {
   "cell_type": "code",
   "execution_count": null,
   "metadata": {},
   "outputs": [],
   "source": [
    "import matplotlib.dates as mdates\n",
    "from matplotlib.ticker import FuncFormatter\n",
    "# Definindo o fundo como branco (removendo transparência)\n",
    "plt.gcf().set_facecolor('white')\n",
    "\n",
    "# Função para formatar o eixo y em milhões\n",
    "def millions(x, pos):\n",
    "    return '%1.1fM' % (x * 1e-6)  # Converte para milhões e formata com 1 casa decimal\n",
    "\n",
    "fig, (ax1, ax2, ax3, ax4) = plt.subplots(4, 1, figsize=(10, 10), facecolor='white')\n",
    "\n",
    "\n",
    "# Gráfico 1: Preço do hidrogênio e PLD\n",
    "ax1.step(time, spot_price, color='purple', label='PLD', marker='.')#where='mid', linestyle='dotted', linewidth=2)\n",
    "ax1.legend(loc='upper left', fontsize=12)\n",
    "ax1.grid(True, linestyle='--', linewidth=0.5)\n",
    "ax1.xaxis.set_major_formatter(mdates.DateFormatter('%H:%M'))  # Formatar o eixo x como HH:MM\n",
    "ax1.set_xticklabels([])  # Remove os rótulos do eixo x para evitar sobreposição\n",
    "ax1.set_ylabel('PLD(R$/MW)', fontsize=12)\n",
    "\n",
    "# Criando um segundo eixo y para o preço do hidrogênio\n",
    "ax1_2 = ax1.twinx()\n",
    "ax1_2.step(time, h2_price, color='blue', label='Preço do H₂V')#, where='mid', linestyle='solid', linewidth=2)\n",
    "ax1_2.set_ylabel('Preço do H₂V (R$/kg)', fontsize=12)\n",
    "\n",
    "# Ajustar as legendas dos dois eixos y\n",
    "ax1.legend(loc='upper left', fontsize=12)\n",
    "ax1_2.legend(loc='lower right', fontsize=12)\n",
    "\n",
    "\n",
    "# Gráfico 2: Nível de carga da bateria\n",
    "ax2.step(time, soc_elec, color='orange', label='Capacidade do BESS', where='mid', linestyle='-', linewidth=2)\n",
    "ax2.set_ylabel('Wh', fontsize=12)\n",
    "ax2.legend(loc='upper right', fontsize=12)\n",
    "ax2.grid(True, linestyle='--', linewidth=0.5)\n",
    "ax2.set_xticklabels([])  # Remove os rótulos do eixo x para evitar sobreposição\n",
    "\n",
    "# Gráfico 3: Nível do tanque de hidrogênio e h2_to_market\n",
    "ax3.step(time, soc_h2, color='green', label='Estoque de H₂V', where='mid', linestyle='-', linewidth=2)\n",
    "ax3.set_ylabel('kg', fontsize=12)\n",
    "ax3.legend(loc='upper left', fontsize=12)\n",
    "ax3.grid(True, linestyle='--', linewidth=0.5)\n",
    "\n",
    "# Criando um segundo eixo y para h2_to_market\n",
    "ax3b = ax3.twinx()\n",
    "ax3b.step(time, h2_to_market, color='red', label='H₂V comercializado')#, where='mid', linestyle='dotted', linewidth=2)\n",
    "ax3b.set_ylabel('kg', fontsize=12)\n",
    "#x3b.legend(loc='upper right', fontsize=12)\n",
    "\n",
    "# Gráfico 4: Comercialização de Energia e Geração Termelétrica\n",
    "ax4.bar(time, -load.pload.values, label='Carga', color='blue')  # OK\n",
    "ax4.bar(time, pv_gen.pgen.values, label='Geração solar', color='green')\n",
    "ax4.bar(time, -power_sell, bottom=-load.pload.values-elec_to_h2_mass, label='Energia vendida', color='brown')\n",
    "ax4.bar(time, -elec_to_h2_mass, bottom=-load.pload.values-power_sell, label='Energia para produção de H₂V', color='red')\n",
    "ax4.bar(time, power_buy, bottom=pv_gen.pgen.values, label='Energia comprada no grid', color='orange')\n",
    "ax4.bar(time, power_plant, label='Geração UTE', color='gray')\n",
    "\n",
    "ax4.set_xlabel('Hora do dia (96 intervalos de 15 Minutos)', fontsize=12)\n",
    "ax4.set_ylabel('Balanço energético', fontsize=12)\n",
    "ax4.grid(True)\n",
    "\n",
    "# Criando um segundo eixo y para o PLD (Preço Spot)\n",
    "ax5 = ax4.twinx()\n",
    "ax5.plot(time, spot_price.Price, color='purple', label='PLD', marker='.')\n",
    "ax5.set_ylabel('PLD (R$/MW)', fontsize=12)\n",
    "\n",
    "# Legendas separadas\n",
    "ax4.legend(loc='upper center', bbox_to_anchor=(0.5, -0.3), ncol=3)  # Ajuste ncol conforme necessário\n",
    "ax5.legend(loc='lower right', fontsize=12)\n",
    "\n",
    "# Melhorar o layout e ajustar os espaçamentos\n",
    "fig.tight_layout()\n",
    "\n",
    "# Salvando o gráfico no formato EPS, sem transparência e com o texto como curvas\n",
    "#plt.savefig('Cen_1_multi_graph.eps', format='eps', transparent=False)\n",
    "\n",
    "# Mostra o gráfico na tela\n",
    "plt.show()\n"
   ]
  },
  {
   "cell_type": "code",
   "execution_count": null,
   "metadata": {},
   "outputs": [],
   "source": [
    "# Definindo o fundo como branco (removendo transparência)\n",
    "plt.gcf().set_facecolor('white')\n",
    "\n",
    "# Ajustando o layout para múltiplos gráficos\n",
    "fig, axs = plt.subplots(2, 2, figsize=(14, 10), facecolor='white')  # Layout em grade 2x2\n",
    "\n",
    "# Gráfico 1: Preço do hidrogênio e PLD\n",
    "ax1 = axs[0, 0]\n",
    "ax1.step(time, spot_price, color='purple', label='PLD', marker='.', linewidth=2)\n",
    "ax1.grid(True, linestyle='--', linewidth=0.5)\n",
    "ax1.set_xlabel('Hora do dia (96 intervalos de 15 Minutos)', fontsize=12)\n",
    "ax1.set_ylabel('PLD (R$/MW)', fontsize=10)\n",
    "#plt.ylim(100, 500)  # Define os valores mínimo e máximo para o eixo y\n",
    "ax1.tick_params(axis='y', labelsize=10)\n",
    "\n",
    "# Segundo eixo y para o preço do hidrogênio\n",
    "ax1_2 = ax1.twinx()\n",
    "ax1_2.step(time, h2_price, color='blue', label='Preço do H₂V', linewidth=2)\n",
    "plt.ylim(h2_price_start-10, h2_price_end+10)  # Define os valores mínimo e máximo para o eixo y\n",
    "ax1_2.set_ylabel('LCOH (R$/kg)', fontsize=10)\n",
    "ax1_2.tick_params(axis='y', labelsize=10)\n",
    "\n",
    "# Legenda centralizada (ax1 e ax1_2)\n",
    "legend1 = ax1.legend(loc='upper left', bbox_to_anchor=(0.1, 1.15), fontsize=10)\n",
    "legend2 = ax1_2.legend(loc='upper left', bbox_to_anchor=(0.5, 1.15), fontsize=10)  # Horizontal\n",
    "legend1.get_frame().set_linewidth(0)\n",
    "legend2.get_frame().set_linewidth(0)\n",
    "\n",
    "# Gráfico 2: Estoque de H₂V e H₂ comercializado em eixos diferentes\n",
    "ax2 = axs[0, 1]\n",
    "ax2.step(time, soc_h2, color='green', label='Estoque de H₂V', where='mid', linestyle='-', linewidth=2)#, marker='o', markersize=5)\n",
    "ax2.set_ylabel('Estoque (kg)', fontsize=10)\n",
    "ax2.grid(True, linestyle='--', linewidth=0.5)\n",
    "ax2.set_xlabel('Hora do dia (96 intervalos de 15 Minutos)', fontsize=10)\n",
    "\n",
    "# Criando um segundo eixo y para h2_to_market\n",
    "ax2_2 = ax2.twinx()\n",
    "ax2_2.step(time, h2_to_market, color='red', label='H₂V Comercializado', where='mid', linestyle='-', linewidth=2)#, marker='D', markersize=5)\n",
    "ax2_2.set_ylabel('Comercialização (kg)', fontsize=10)\n",
    "\n",
    "# Legendas dos eixos (ax2 e ax2_2)\n",
    "legend3 = ax2.legend(loc='upper left', bbox_to_anchor=(0.1, 1.15), fontsize=10)\n",
    "legend4 = ax2_2.legend(loc='upper left', bbox_to_anchor=(0.5, 1.15), fontsize=10)  # Horizontal\n",
    "legend3.get_frame().set_linewidth(0)\n",
    "legend4.get_frame().set_linewidth(0)\n",
    "\n",
    "# Gráfico 3: Comercialização de Energia e Geração Termelétrica\n",
    "ax3 = axs[1, 0]\n",
    "ax3.bar(time, -load.pload.values, label='Carga', color='blue')  # OK\n",
    "ax3.bar(time, pv_gen.pgen.values, label='Geração Solar', color='green')\n",
    "ax3.bar(time, -power_sell, bottom=-load.pload.values-elec_to_h2_mass, label='Energia Vendida', color='brown')\n",
    "ax3.bar(time, -elec_to_h2_mass, bottom=-load.pload.values-power_sell, label='Energia para Produção de H₂V', color='red')\n",
    "ax3.bar(time, power_buy, bottom=pv_gen.pgen.values, label='Energia Comprada no Grid', color='orange')\n",
    "ax3.bar(time, power_plant, label='Geração UTE', color='gray')\n",
    "\n",
    "ax3.set_xlabel('Hora do dia (96 intervalos de 15 Minutos)', fontsize=10)\n",
    "ax3.set_ylabel('Balanço Energético (Wh)', fontsize=10)\n",
    "ax3.grid(True, linestyle='--', linewidth=0.5)\n",
    "ax3.tick_params(axis='x', labelsize=10)\n",
    "ax3.tick_params(axis='y', labelsize=10)\n",
    "\n",
    "# Ajustando a legenda (ax3)\n",
    "legend5 = ax3.legend(loc='upper center', bbox_to_anchor=(0.5, -0.25), ncol=2, fontsize=10)  # Legendas centralizadas\n",
    "legend5.get_frame().set_linewidth(0)  # Remover borda da legenda\n",
    "\n",
    "# Gráfico 4: Nível de carga da bateria (BESS)\n",
    "ax4 = axs[1, 1]\n",
    "ax4.bar(time, -elec_storage_charge, color='cyan', label='Carga do BESS')  # Carga da bateria (negativo)\n",
    "ax4.bar(time, elec_storage_discharge, color='magenta', label='Descarga do BESS')  # Descarga da bateria (positivo)\n",
    "ax4.set_ylabel('Energia (Wh)', fontsize=10)\n",
    "ax4.grid(True, linestyle='--', linewidth=0.5)\n",
    "ax4.set_xlabel('Hora do dia (96 intervalos de 15 Minutos)', fontsize=10)\n",
    "\n",
    "# Legenda centralizada (ax4)\n",
    "legend6 = ax4.legend(loc='upper center', bbox_to_anchor=(0.5, -0.25), ncol=2, fontsize=10)  # Legendas centralizadas\n",
    "legend6.get_frame().set_linewidth(0)  # Remover borda da legenda\n",
    "\n",
    "# Ajustar o layout geral para evitar sobreposição\n",
    "fig.tight_layout(pad=1.0)  # Ajuste do padding para reduzir o espaço entre os gráficos\n",
    "\n",
    "# Salvando o gráfico no formato EPS, sem transparência e com o texto como curvas\n",
    "#plt.savefig('Cen_6_de_6.eps', format='eps', transparent=False)\n",
    "\n",
    "# Mostra o gráfico na tela\n",
    "plt.show()\n"
   ]
  },
  {
   "cell_type": "code",
   "execution_count": null,
   "metadata": {},
   "outputs": [],
   "source": [
    "# Define o período em horas (exemplo de uma hora)\n",
    "periodo_horas = 1\n",
    "\n",
    "# Calcula o total de potência comprada e vendida em MWh\n",
    "total_power_buy_mwh = np.sum(power_buy) / 1000000 * periodo_horas\n",
    "total_power_sell_mwh = np.sum(power_sell) / 1000000 * periodo_horas\n",
    "total_elec_from_gas_mwh = np.sum(elec_from_gas) / 1000000 * periodo_horas\n",
    "total_elec_to_h2_mwh = np.sum(elec_to_h2_mass) / 1000000 * periodo_horas\n",
    "\n",
    "print(\"Total de Potência Comprada (MWh):\", total_power_buy_mwh)\n",
    "print(\"Total de Potência Vendida (MWh):\", total_power_sell_mwh)\n",
    "print(\"Total de Potência Gerada na UTE (MWh):\", total_elec_from_gas_mwh)\n",
    "print(\"Massa total de H2 produzida (kg):\", total_elec_to_h2_mwh)\n"
   ]
  },
  {
   "cell_type": "code",
   "execution_count": null,
   "metadata": {},
   "outputs": [],
   "source": [
    "model.solver"
   ]
  },
  {
   "cell_type": "code",
   "execution_count": null,
   "metadata": {},
   "outputs": [],
   "source": []
  }
 ],
 "metadata": {
  "kernelspec": {
   "display_name": "Python 3 (ipykernel)",
   "language": "python",
   "name": "python3"
  },
  "language_info": {
   "codemirror_mode": {
    "name": "ipython",
    "version": 3
   },
   "file_extension": ".py",
   "mimetype": "text/x-python",
   "name": "python",
   "nbconvert_exporter": "python",
   "pygments_lexer": "ipython3",
   "version": "3.12.7"
  }
 },
 "nbformat": 4,
 "nbformat_minor": 4
}
