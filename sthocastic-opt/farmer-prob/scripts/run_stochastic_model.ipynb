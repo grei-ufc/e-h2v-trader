{
 "cells": [
  {
   "cell_type": "code",
   "execution_count": 1,
   "metadata": {},
   "outputs": [
    {
     "ename": "ImportError",
     "evalue": "No module named 'pyomo.pysp'.  Beginning in Pyomo 6.0, PySP is distributed as a separate package.  Please see https://github.com/Pyomo/pysp for information on downloading and installing PySP",
     "output_type": "error",
     "traceback": [
      "\u001b[0;31m---------------------------------------------------------------------------\u001b[0m",
      "\u001b[0;31mModuleNotFoundError\u001b[0m                       Traceback (most recent call last)",
      "File \u001b[0;32m~/anaconda3/envs/farmer-prob/lib/python3.8/site-packages/pyomo/pysp/__init__.py:18\u001b[0m\n\u001b[1;32m     17\u001b[0m \u001b[39mtry\u001b[39;00m:\n\u001b[0;32m---> 18\u001b[0m     \u001b[39mfrom\u001b[39;00m \u001b[39mpysp\u001b[39;00m \u001b[39mimport\u001b[39;00m \u001b[39m*\u001b[39m\n\u001b[1;32m     19\u001b[0m     \u001b[39m# Redirect all (imported) pysp modules into the pyomo.pysp namespace\u001b[39;00m\n",
      "\u001b[0;31mModuleNotFoundError\u001b[0m: No module named 'pysp'",
      "\nDuring handling of the above exception, another exception occurred:\n",
      "\u001b[0;31mImportError\u001b[0m                               Traceback (most recent call last)",
      "\u001b[1;32mUntitled-1.ipynb Célula 1\u001b[0m line \u001b[0;36m1\n\u001b[0;32m----> <a href='vscode-notebook-cell:Untitled-1.ipynb?jupyter-notebook#W0sdW50aXRsZWQ%3D?line=0'>1</a>\u001b[0m \u001b[39mimport\u001b[39;00m \u001b[39mpyomo\u001b[39;00m\u001b[39m.\u001b[39;00m\u001b[39mpysp\u001b[39;00m\u001b[39m.\u001b[39;00m\u001b[39mutil\u001b[39;00m\u001b[39m.\u001b[39;00m\u001b[39mrapper\u001b[39;00m \u001b[39mas\u001b[39;00m \u001b[39mrapper\u001b[39;00m\n\u001b[1;32m      <a href='vscode-notebook-cell:Untitled-1.ipynb?jupyter-notebook#W0sdW50aXRsZWQ%3D?line=1'>2</a>\u001b[0m \u001b[39mfrom\u001b[39;00m \u001b[39mpyomo\u001b[39;00m\u001b[39m.\u001b[39;00m\u001b[39mpysp\u001b[39;00m\u001b[39m.\u001b[39;00m\u001b[39mscenariotree\u001b[39;00m\u001b[39m.\u001b[39;00m\u001b[39mtree_structure_model\u001b[39;00m \u001b[39mimport\u001b[39;00m CreateAbstractScenarioTreeModel\n",
      "File \u001b[0;32m~/anaconda3/envs/farmer-prob/lib/python3.8/site-packages/pyomo/pysp/__init__.py:29\u001b[0m\n\u001b[1;32m     24\u001b[0m     deprecation_warning(\n\u001b[1;32m     25\u001b[0m         \u001b[39m\"\u001b[39m\u001b[39mPySP has been removed from pyomo.pysp namespace.  \u001b[39m\u001b[39m\"\u001b[39m\n\u001b[1;32m     26\u001b[0m         \u001b[39m\"\u001b[39m\u001b[39mPlease import PySP directly from the pysp namespace.\u001b[39m\u001b[39m\"\u001b[39m,\n\u001b[1;32m     27\u001b[0m         version\u001b[39m=\u001b[39m\u001b[39m'\u001b[39m\u001b[39m6.0\u001b[39m\u001b[39m'\u001b[39m)\n\u001b[1;32m     28\u001b[0m \u001b[39mexcept\u001b[39;00m \u001b[39mImportError\u001b[39;00m:\n\u001b[0;32m---> 29\u001b[0m     \u001b[39mraise\u001b[39;00m \u001b[39mImportError\u001b[39;00m(\n\u001b[1;32m     30\u001b[0m         \u001b[39m\"\u001b[39m\u001b[39mNo module named \u001b[39m\u001b[39m'\u001b[39m\u001b[39mpyomo.pysp\u001b[39m\u001b[39m'\u001b[39m\u001b[39m.  \u001b[39m\u001b[39m\"\u001b[39m\n\u001b[1;32m     31\u001b[0m         \u001b[39m\"\u001b[39m\u001b[39mBeginning in Pyomo 6.0, PySP is distributed as a separate \u001b[39m\u001b[39m\"\u001b[39m\n\u001b[1;32m     32\u001b[0m         \u001b[39m\"\u001b[39m\u001b[39mpackage.  Please see https://github.com/Pyomo/pysp for \u001b[39m\u001b[39m\"\u001b[39m\n\u001b[1;32m     33\u001b[0m         \u001b[39m\"\u001b[39m\u001b[39minformation on downloading and installing PySP\u001b[39m\u001b[39m\"\u001b[39m)\n",
      "\u001b[0;31mImportError\u001b[0m: No module named 'pyomo.pysp'.  Beginning in Pyomo 6.0, PySP is distributed as a separate package.  Please see https://github.com/Pyomo/pysp for information on downloading and installing PySP"
     ]
    }
   ],
   "source": [
    "import pyomo.pysp.util.rapper as rapper\n",
    "from pyomo.pysp.scenariotree.tree_structure_model import CreateAbstractScenarioTreeModel"
   ]
  },
  {
   "cell_type": "code",
   "execution_count": null,
   "metadata": {},
   "outputs": [],
   "source": [
    "solvername = 'cplex'\n",
    "path = str(pathlib.Path(__file__).parent.absolute())\n",
    "\n",
    "abstract_tree = CreateAbstractScenarioTreeModel()\n",
    "concrete_tree = abstract_tree.create_instance(path + '/ScenarioStructure.dat')\n",
    "\n",
    "stsolver = rapper.StochSolver(fsfile=path + '/ReferenceModel.py',\n",
    "                                # fsfct='pysp_instance_creation_callback',\n",
    "                                tree_model=concrete_tree)\n",
    "\n",
    "# ef_sol = stsolver.solve_ef(solvername)\n",
    "\n"
   ]
  },
  {
   "cell_type": "code",
   "execution_count": null,
   "metadata": {},
   "outputs": [],
   "source": [
    "ef_sol = stsolver.solve_ef(solvername,\n",
    "                            generate_weighted_cvar=True,\n",
    "                            cvar_weight=1.0,\n",
    "                            risk_alpha=0.1)"
   ]
  }
 ],
 "metadata": {
  "kernelspec": {
   "display_name": "farmer-prob",
   "language": "python",
   "name": "python3"
  },
  "language_info": {
   "codemirror_mode": {
    "name": "ipython",
    "version": 3
   },
   "file_extension": ".py",
   "mimetype": "text/x-python",
   "name": "python",
   "nbconvert_exporter": "python",
   "pygments_lexer": "ipython3",
   "version": "3.8.18"
  }
 },
 "nbformat": 4,
 "nbformat_minor": 2
}
